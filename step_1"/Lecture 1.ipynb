{
 "cells": [
  {
   "cell_type": "markdown",
   "metadata": {},
   "source": [
    "# Contents\n",
    "## 1. What is value\n",
    "## 2. print () function\n",
    "## 3. type () function\n",
    "## 4. Variable\n",
    "## 5. Variable names and keywords\n",
    "## 6. Statements\n",
    "## 7. Operators and operands\n",
    "## 8. Order of operations\n",
    "## 9. String operations\n",
    "## 10. Asking the user for input\n",
    "## 11. Type Casting\n",
    "## 12. Comments"
   ]
  },
  {
   "cell_type": "markdown",
   "metadata": {},
   "source": [
    "# 1. Value"
   ]
  },
  {
   "cell_type": "markdown",
   "metadata": {},
   "source": [
    "### A value is one of the basic things a program works with, like a letter or a number.\n",
    "The values could be 1, 2.5, and 'Hello, World!'.\n",
    "\n",
    "These values belong to different types: 1 is an integer, 2.5 is float and \"Hello World\" is a string"
   ]
  },
  {
   "cell_type": "markdown",
   "metadata": {},
   "source": [
    "# 2. print() function"
   ]
  },
  {
   "cell_type": "markdown",
   "metadata": {},
   "source": [
    "We can print these values using print () function"
   ]
  },
  {
   "cell_type": "code",
   "execution_count": 1,
   "metadata": {},
   "outputs": [
    {
     "name": "stdout",
     "output_type": "stream",
     "text": [
      "1\n"
     ]
    }
   ],
   "source": [
    "print (1)\n"
   ]
  },
  {
   "cell_type": "code",
   "execution_count": 2,
   "metadata": {},
   "outputs": [
    {
     "name": "stdout",
     "output_type": "stream",
     "text": [
      "2.5\n"
     ]
    }
   ],
   "source": [
    "print(2.5)"
   ]
  },
  {
   "cell_type": "code",
   "execution_count": 3,
   "metadata": {},
   "outputs": [
    {
     "name": "stdout",
     "output_type": "stream",
     "text": [
      "hello world\n"
     ]
    }
   ],
   "source": [
    "print (\"hello world\")"
   ]
  },
  {
   "cell_type": "code",
   "execution_count": 4,
   "metadata": {},
   "outputs": [
    {
     "name": "stdout",
     "output_type": "stream",
     "text": [
      "hello world\n"
     ]
    }
   ],
   "source": [
    "print ('hello world')"
   ]
  },
  {
   "cell_type": "code",
   "execution_count": 5,
   "metadata": {},
   "outputs": [
    {
     "name": "stdout",
     "output_type": "stream",
     "text": [
      "hello world hello\n"
     ]
    }
   ],
   "source": [
    "print ('hello world','hello')\n",
    "\n"
   ]
  },
  {
   "cell_type": "code",
   "execution_count": 6,
   "metadata": {},
   "outputs": [
    {
     "name": "stdout",
     "output_type": "stream",
     "text": [
      "PAKISTAN\n"
     ]
    }
   ],
   "source": [
    "# print the name of your country\n",
    "print ('PAKISTAN')"
   ]
  },
  {
   "cell_type": "code",
   "execution_count": 1,
   "metadata": {},
   "outputs": [
    {
     "name": "stdout",
     "output_type": "stream",
     "text": [
      "10 jan\n"
     ]
    }
   ],
   "source": [
    "# print your date of birth\n",
    "print ('10','jan')"
   ]
  },
  {
   "cell_type": "code",
   "execution_count": 2,
   "metadata": {},
   "outputs": [
    {
     "name": "stdout",
     "output_type": "stream",
     "text": [
      "seher 22 5.4inch\n"
     ]
    }
   ],
   "source": [
    "# print your name, age and height using one print statement\n",
    "print ( 'seher','22','5.4inch')"
   ]
  },
  {
   "cell_type": "markdown",
   "metadata": {},
   "source": [
    "# 3. type() function"
   ]
  },
  {
   "cell_type": "markdown",
   "metadata": {},
   "source": [
    "If you are not sure what type a value has, the interpreter can tell you."
   ]
  },
  {
   "cell_type": "code",
   "execution_count": 9,
   "metadata": {},
   "outputs": [
    {
     "data": {
      "text/plain": [
       "int"
      ]
     },
     "execution_count": 9,
     "metadata": {},
     "output_type": "execute_result"
    }
   ],
   "source": [
    "type(1)"
   ]
  },
  {
   "cell_type": "code",
   "execution_count": 10,
   "metadata": {},
   "outputs": [
    {
     "data": {
      "text/plain": [
       "float"
      ]
     },
     "execution_count": 10,
     "metadata": {},
     "output_type": "execute_result"
    }
   ],
   "source": [
    "type(2.5)"
   ]
  },
  {
   "cell_type": "code",
   "execution_count": 11,
   "metadata": {},
   "outputs": [
    {
     "data": {
      "text/plain": [
       "str"
      ]
     },
     "execution_count": 11,
     "metadata": {},
     "output_type": "execute_result"
    }
   ],
   "source": [
    "type(\"hello world\")\n"
   ]
  },
  {
   "cell_type": "code",
   "execution_count": 12,
   "metadata": {},
   "outputs": [
    {
     "data": {
      "text/plain": [
       "int"
      ]
     },
     "execution_count": 12,
     "metadata": {},
     "output_type": "execute_result"
    }
   ],
   "source": [
    "# what will be the type of '5'\n",
    "type(5)"
   ]
  },
  {
   "cell_type": "markdown",
   "metadata": {},
   "source": [
    "# 4. Variable"
   ]
  },
  {
   "cell_type": "markdown",
   "metadata": {},
   "source": [
    "One of the most powerful features of a programming language is the ability to\n",
    "manipulate variables. \n",
    "\n",
    "A variable is a name that refers to a value.\n",
    "\n",
    "Variables names are case sensitive"
   ]
  },
  {
   "cell_type": "code",
   "execution_count": 13,
   "metadata": {},
   "outputs": [],
   "source": [
    "# An assignment statement creates new variables and gives them values:\n",
    "name = \"Ahmed\"\n",
    "age = 20\n",
    "height = 3.5\n"
   ]
  },
  {
   "cell_type": "markdown",
   "metadata": {},
   "source": [
    "This example makes three assignments, first assign \"Ahmed\" to name variable, second assign 20 to age and 3.5 to height"
   ]
  },
  {
   "cell_type": "code",
   "execution_count": 14,
   "metadata": {},
   "outputs": [
    {
     "name": "stdout",
     "output_type": "stream",
     "text": [
      "Ahmed\n"
     ]
    }
   ],
   "source": [
    "# to print the name you can use print statement\n",
    "name = \"Ahmed\"\n",
    "\n",
    "print (name)"
   ]
  },
  {
   "cell_type": "code",
   "execution_count": 15,
   "metadata": {},
   "outputs": [
    {
     "name": "stdout",
     "output_type": "stream",
     "text": [
      "20\n",
      "3.5\n"
     ]
    }
   ],
   "source": [
    "# print the values of age and height\n",
    "print(age)\n",
    "print(height)"
   ]
  },
  {
   "cell_type": "code",
   "execution_count": 16,
   "metadata": {},
   "outputs": [
    {
     "name": "stdout",
     "output_type": "stream",
     "text": [
      "Ahmed 20 3.5\n"
     ]
    }
   ],
   "source": [
    "# print all three values using single print statement\n",
    "print(name, age, height)"
   ]
  },
  {
   "cell_type": "code",
   "execution_count": 17,
   "metadata": {},
   "outputs": [
    {
     "name": "stdout",
     "output_type": "stream",
     "text": [
      "1000000\n"
     ]
    }
   ],
   "source": [
    "# What will happen if you print 1 million using following statement\n",
    "\n",
    "a=1000000\n",
    "print (a)"
   ]
  },
  {
   "cell_type": "markdown",
   "metadata": {},
   "source": [
    "# 5. Variable names and keywords"
   ]
  },
  {
   "cell_type": "markdown",
   "metadata": {},
   "source": [
    "Variable names can be arbitrarily long. \n",
    "They can contain both letters and numbers,but they have to begin with a letter.\n",
    "The underscore character (_) can appear in a name.\n",
    "Variable names can start with an underscore character, but we generally avoid using it unless\n",
    "we are writing library code for others to use."
   ]
  },
  {
   "cell_type": "code",
   "execution_count": 18,
   "metadata": {},
   "outputs": [],
   "source": [
    "#what will happen\n",
    "# 47name = 'Pakistan' false\n",
    "# name@ = 'Pakistan' false\n",
    "# class = 'Pakistan' false \n",
    "# myname = 'khubaib' true"
   ]
  },
  {
   "cell_type": "raw",
   "metadata": {},
   "source": [
    "It turns out that class is one of Python’s keywords.\n",
    "The interpreter uses keywords to recognize the structure of the program, and they cannot be used as variable names."
   ]
  },
  {
   "cell_type": "markdown",
   "metadata": {},
   "source": [
    "# 6. Statements"
   ]
  },
  {
   "cell_type": "raw",
   "metadata": {},
   "source": [
    "A statement is a unit of code that the Python interpreter can execute.\n",
    "We have seen two kinds of statements: print and assignment. #statement is a line of code"
   ]
  },
  {
   "cell_type": "markdown",
   "metadata": {},
   "source": [
    "# 7. Operators and operands"
   ]
  },
  {
   "cell_type": "raw",
   "metadata": {},
   "source": [
    "Operators are special symbols that represent computations like addition and multiplication.\n",
    "The values the operator is applied to are called operands."
   ]
  },
  {
   "cell_type": "code",
   "execution_count": 19,
   "metadata": {},
   "outputs": [
    {
     "name": "stdout",
     "output_type": "stream",
     "text": [
      "52 2 20 2.0 25 3\n"
     ]
    }
   ],
   "source": [
    "# The operators +, -, *, / and ** perform addition, subtraction, multiplication, division,\n",
    "# exponentiation and modulus operator as in the following examples:\n",
    "print (20+32, 3-1, 4*5 , 12/6,  5**2, 13%5)"
   ]
  },
  {
   "cell_type": "code",
   "execution_count": 5,
   "metadata": {},
   "outputs": [
    {
     "name": "stdout",
     "output_type": "stream",
     "text": [
      "90\n"
     ]
    }
   ],
   "source": [
    "# print 200+323-433 # error bcz no brackets\n",
    "print(200+323-433)"
   ]
  },
  {
   "cell_type": "code",
   "execution_count": 3,
   "metadata": {},
   "outputs": [],
   "source": [
    "# print (2+1)*(8-6) # error bcz no brackets"
   ]
  },
  {
   "cell_type": "markdown",
   "metadata": {},
   "source": [
    "# 8. Expressions"
   ]
  },
  {
   "cell_type": "raw",
   "metadata": {},
   "source": [
    "An expression is a combination of values, variables, and operators. # operators + operands"
   ]
  },
  {
   "cell_type": "raw",
   "metadata": {},
   "source": [
    "Assignement: type the following statements in the Python interpreter to see what\n",
    "they do:\n",
    "5\n",
    "x = 5\n",
    "x + 1\n"
   ]
  },
  {
   "cell_type": "code",
   "execution_count": 22,
   "metadata": {},
   "outputs": [
    {
     "data": {
      "text/plain": [
       "6"
      ]
     },
     "execution_count": 22,
     "metadata": {},
     "output_type": "execute_result"
    }
   ],
   "source": [
    "x = 5\n",
    "x = x + 1\n",
    "x\n"
   ]
  },
  {
   "cell_type": "markdown",
   "metadata": {},
   "source": [
    "# 9. Order of operations"
   ]
  },
  {
   "cell_type": "raw",
   "metadata": {},
   "source": [
    "When more than one operator appears in an expression, the order of evaluation\n",
    "depends on the rules of precedence. \n",
    "For mathematical operators, Python follows mathematical convention. \n",
    "The acronym PEMDAS is a useful way to remember the rules:\n",
    "1. Parentheses\n",
    "2. Exponentiation\n",
    "3. Multiplication and Division\n",
    "4. Addition and Subtraction\n",
    "Operators with the same precedence are evaluated from left to right.\n",
    "    "
   ]
  },
  {
   "cell_type": "code",
   "execution_count": 2,
   "metadata": {},
   "outputs": [
    {
     "name": "stdout",
     "output_type": "stream",
     "text": [
      "4\n",
      "8\n",
      "3\n",
      "3\n"
     ]
    }
   ],
   "source": [
    "# write output of the following commands without excuting it\n",
    "print (2*(3-1))   \n",
    "print ((1+1)**(5-2))   \n",
    "print (2**1+1)   \n",
    "print (3*1**3)  "
   ]
  },
  {
   "cell_type": "markdown",
   "metadata": {},
   "source": [
    "# 10. String operations"
   ]
  },
  {
   "cell_type": "code",
   "execution_count": 24,
   "metadata": {},
   "outputs": [
    {
     "name": "stdout",
     "output_type": "stream",
     "text": [
      "30\n"
     ]
    }
   ],
   "source": [
    "first = 10\n",
    "second = 20\n",
    "print (first + second)"
   ]
  },
  {
   "cell_type": "code",
   "execution_count": 25,
   "metadata": {},
   "outputs": [
    {
     "name": "stdout",
     "output_type": "stream",
     "text": [
      "1020\n"
     ]
    }
   ],
   "source": [
    "first = '10'    \n",
    "second = '20'\n",
    "print (first + second)"
   ]
  },
  {
   "cell_type": "code",
   "execution_count": 26,
   "metadata": {},
   "outputs": [
    {
     "name": "stdout",
     "output_type": "stream",
     "text": [
      "hello hello hello \n"
     ]
    }
   ],
   "source": [
    "print (\"hello \" * 3 )"
   ]
  },
  {
   "cell_type": "code",
   "execution_count": 6,
   "metadata": {},
   "outputs": [
    {
     "name": "stdout",
     "output_type": "stream",
     "text": [
      "seher seher seher seher seher seher seher seher seher seher \n"
     ]
    }
   ],
   "source": [
    "# print your name 10 times\n",
    "print (\"seher \" * 10 )"
   ]
  },
  {
   "cell_type": "markdown",
   "metadata": {},
   "source": [
    "# 11. Asking the user for input"
   ]
  },
  {
   "cell_type": "code",
   "execution_count": 28,
   "metadata": {},
   "outputs": [
    {
     "name": "stdout",
     "output_type": "stream",
     "text": [
      "please enter name: hafsa\n",
      "hafsa\n"
     ]
    }
   ],
   "source": [
    "name = input(\"please enter name: \")\n",
    "print (name)"
   ]
  },
  {
   "cell_type": "code",
   "execution_count": 7,
   "metadata": {},
   "outputs": [
    {
     "name": "stdout",
     "output_type": "stream",
     "text": [
      "age:2\n",
      "222\n"
     ]
    }
   ],
   "source": [
    "# wirte a program which take age from user and concate it three time\n",
    "age = input(\"age:\")\n",
    "print (age*3)"
   ]
  },
  {
   "cell_type": "markdown",
   "metadata": {},
   "source": [
    "# 12. Type Casting"
   ]
  },
  {
   "cell_type": "code",
   "execution_count": 4,
   "metadata": {},
   "outputs": [
    {
     "name": "stdout",
     "output_type": "stream",
     "text": [
      "10\n"
     ]
    },
    {
     "data": {
      "text/plain": [
       "str"
      ]
     },
     "execution_count": 4,
     "metadata": {},
     "output_type": "execute_result"
    }
   ],
   "source": [
    "a = '10'\n",
    "print (a)\n",
    "type(a)"
   ]
  },
  {
   "cell_type": "code",
   "execution_count": 5,
   "metadata": {},
   "outputs": [
    {
     "data": {
      "text/plain": [
       "'10'"
      ]
     },
     "execution_count": 5,
     "metadata": {},
     "output_type": "execute_result"
    }
   ],
   "source": [
    "# int(a)\n",
    "str(a)"
   ]
  },
  {
   "cell_type": "code",
   "execution_count": 6,
   "metadata": {},
   "outputs": [
    {
     "name": "stdout",
     "output_type": "stream",
     "text": [
      "enter input:12\n",
      "180\n"
     ]
    }
   ],
   "source": [
    "# take an interger from user and multiply it with 15\n",
    "\n",
    "a = int(input('enter input:'))\n",
    "s = a * 15\n",
    "print(s)\n"
   ]
  },
  {
   "cell_type": "markdown",
   "metadata": {},
   "source": [
    "# 13. Comments"
   ]
  },
  {
   "cell_type": "markdown",
   "metadata": {},
   "source": [
    "### here is comments"
   ]
  },
  {
   "cell_type": "markdown",
   "metadata": {},
   "source": [
    "# Exercise"
   ]
  },
  {
   "cell_type": "raw",
   "metadata": {},
   "source": [
    "Write a program that uses raw_input to prompt a user for their name and then welcomes them.\n",
    "\n",
    "Enter your name: Chuck\n",
    "Hello Chuck"
   ]
  },
  {
   "cell_type": "code",
   "execution_count": 7,
   "metadata": {},
   "outputs": [
    {
     "name": "stdout",
     "output_type": "stream",
     "text": [
      "Enter name:seher\n",
      "Hello  seher\n"
     ]
    }
   ],
   "source": [
    "inp = input('Enter name:')\n",
    "print ('Hello ',inp)"
   ]
  },
  {
   "cell_type": "raw",
   "metadata": {},
   "source": [
    "Write a program to prompt the user for hours and rate per hour to\n",
    "compute gross pay.\n",
    "\n",
    "Enter Hours: 35\n",
    "Enter Rate: 2.75\n",
    "Pay: 96.25\n"
   ]
  },
  {
   "cell_type": "code",
   "execution_count": 8,
   "metadata": {},
   "outputs": [
    {
     "name": "stdout",
     "output_type": "stream",
     "text": [
      "Enter hour:35\n",
      "Enter rate:2.75\n",
      "96.25\n"
     ]
    }
   ],
   "source": [
    "Hour = int(input('Enter hour:'))\n",
    "Rate = float(input('Enter rate:'))\n",
    "Pay = Hour * Rate\n",
    "print (Pay)"
   ]
  },
  {
   "cell_type": "markdown",
   "metadata": {},
   "source": [
    "Assume that we execute the following assignment statements:\n",
    "width = 17\n",
    "height = 12.0\n",
    "\n",
    "For each of the following expressions, write the value of the expression and the\n",
    "type (of the value of the expression).\n",
    "\n",
    "1. width/2\n",
    "2. width/2.0\n",
    "3. height/3\n",
    "4. 1 + 2 * 5\n",
    "\n",
    "Use the Python interpreter to check your answers."
   ]
  },
  {
   "cell_type": "code",
   "execution_count": 9,
   "metadata": {},
   "outputs": [
    {
     "name": "stdout",
     "output_type": "stream",
     "text": [
      "8.5\n",
      "8.5\n",
      "4.0\n",
      "14.1\n"
     ]
    }
   ],
   "source": [
    "width = 17\n",
    "height = 12.0\n",
    "print (width/2)\n",
    "print (width/2.0)\n",
    "print (height/3)\n",
    "print (4.1+2*5)"
   ]
  },
  {
   "cell_type": "raw",
   "metadata": {},
   "source": [
    "Write a program which prompts the user for a Celsius temperature,\n",
    "convert the temperature to Fahrenheit and print out the converted temperature."
   ]
  },
  {
   "cell_type": "code",
   "execution_count": 10,
   "metadata": {},
   "outputs": [
    {
     "name": "stdout",
     "output_type": "stream",
     "text": [
      "Enter Celcius Temperature:12\n",
      "53.6\n"
     ]
    }
   ],
   "source": [
    "inp = input('Enter Celcius Temperature:')\n",
    "cel = float(inp)\n",
    "fahr = ((cel * 9.0 / 5.0) + 32.0)\n",
    "print (fahr)\n"
   ]
  },
  {
   "cell_type": "code",
   "execution_count": null,
   "metadata": {},
   "outputs": [],
   "source": []
  }
 ],
 "metadata": {
  "kernelspec": {
   "display_name": "Python 3",
   "language": "python",
   "name": "python3"
  },
  "language_info": {
   "codemirror_mode": {
    "name": "ipython",
    "version": 3
   },
   "file_extension": ".py",
   "mimetype": "text/x-python",
   "name": "python",
   "nbconvert_exporter": "python",
   "pygments_lexer": "ipython3",
   "version": "3.7.4"
  }
 },
 "nbformat": 4,
 "nbformat_minor": 4
}
