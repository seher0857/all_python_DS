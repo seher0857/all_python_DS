{
 "cells": [
  {
   "cell_type": "markdown",
   "metadata": {},
   "source": [
    "# Contents\n",
    "## 1. Opening files\n",
    "## 2. Reading files\n",
    "## 3. Using try, except, and open\n",
    "## 4. Writing files"
   ]
  },
  {
   "cell_type": "markdown",
   "metadata": {},
   "source": [
    "# 1. Opening files"
   ]
  },
  {
   "cell_type": "code",
   "execution_count": 3,
   "metadata": {},
   "outputs": [],
   "source": [
    "fhand = open('test.txt')"
   ]
  },
  {
   "cell_type": "code",
   "execution_count": 4,
   "metadata": {},
   "outputs": [
    {
     "name": "stdout",
     "output_type": "stream",
     "text": [
      "<_io.TextIOWrapper name='test.txt' mode='r' encoding='cp1252'>\n"
     ]
    }
   ],
   "source": [
    "print (fhand)"
   ]
  },
  {
   "cell_type": "code",
   "execution_count": 4,
   "metadata": {},
   "outputs": [],
   "source": [
    "# fhand = open('test1.txt')"
   ]
  },
  {
   "cell_type": "markdown",
   "metadata": {},
   "source": [
    "# 2. Reading files"
   ]
  },
  {
   "cell_type": "code",
   "execution_count": 7,
   "metadata": {},
   "outputs": [
    {
     "name": "stdout",
     "output_type": "stream",
     "text": [
      "Tony Blair became \"obsessed\" with creating of bringing the UK together,\n",
      "\n",
      "their former prime minister the has revealed.\n",
      "\n",
      "Rebel Tories and Labour MPs are planning a bill to stop the UK leaving the EU on 31 October without a deal.\n",
      "\n",
      "\n",
      "\n",
      "Mr Johnson said he did not want an election, but progress with the EU would be \"impossible\" if the MPs win.\n",
      "\n",
      "\n",
      "\n",
      "Jeremy Corbyn said the Labour Party was ready for a general election.\n",
      "\n",
      "\n",
      "\n",
      "But shadow Northern Ireland secretary Tony Lloyd later said Labour would vote against any government plans to hold a general election before the UK is due to leave the EU on 31 October.\n",
      "\n",
      "\n",
      "\n",
      "He said Labour \"will not have Boris Johnson dictate the terms of an election that crashes this country out with no deal\".\n",
      "\n",
      "Line Count: 11\n"
     ]
    }
   ],
   "source": [
    "# counting no of line\n",
    "fhand = open('test2.txt')\n",
    "count = 0\n",
    "for line in fhand:\n",
    "    print (line)\n",
    "    count = count + 1\n",
    "print ('Line Count:', count)"
   ]
  },
  {
   "cell_type": "code",
   "execution_count": 8,
   "metadata": {},
   "outputs": [
    {
     "data": {
      "text/plain": [
       "716"
      ]
     },
     "execution_count": 8,
     "metadata": {},
     "output_type": "execute_result"
    }
   ],
   "source": [
    "fhand = open('test2.txt')\n",
    "inp = fhand.read()\n",
    "len(inp)"
   ]
  },
  {
   "cell_type": "code",
   "execution_count": 9,
   "metadata": {},
   "outputs": [
    {
     "data": {
      "text/plain": [
       "'Tony Blair'"
      ]
     },
     "execution_count": 9,
     "metadata": {},
     "output_type": "execute_result"
    }
   ],
   "source": [
    "inp[:10]"
   ]
  },
  {
   "cell_type": "code",
   "execution_count": 10,
   "metadata": {},
   "outputs": [
    {
     "name": "stdout",
     "output_type": "stream",
     "text": [
      "He said Labour \"will not have Boris Johnson dictate the terms of an election that crashes this country out with no deal\".\n",
      "\n",
      "\n",
      "\n",
      "But shadow Northern Ireland secretary Tony Lloyd later said Labour would vote against any government plans to hold a general election before the UK is due to leave the EU on 31 October.\n",
      "\n",
      "\n",
      "\n",
      "Jeremy Corbyn said the Labour Party was ready for a general election.\n",
      "\n",
      "\n",
      "\n",
      "Mr Johnson said he did not want an election, but progress with the EU would be \"impossible\" if the MPs win.\n",
      "\n",
      "\n",
      "\n",
      "Rebel Tories and Labour MPs are planning a bill to stop the UK leaving the EU on 31 October without a deal.\n",
      "\n",
      "their former prime minister the has revealed.\n",
      "\n",
      "Tony Blair became \"obsessed\" with creating of bringing the UK together,\n",
      "\n"
     ]
    }
   ],
   "source": [
    "#read the file line by line and print it in reverse order\n",
    "fhand = open('test2.txt')\n",
    "line = fhand.readlines()\n",
    "for line in reversed(line):\n",
    "    print(line)\n",
    "    fhand.close()"
   ]
  },
  {
   "cell_type": "code",
   "execution_count": 12,
   "metadata": {},
   "outputs": [
    {
     "name": "stdout",
     "output_type": "stream",
     "text": [
      "\n",
      ".\"laed on htiw tuo yrtnuoc siht sehsarc taht noitcele na fo smret eht etatcid nosnhoJ siroB evah ton lliw\" ruobaL dias eH\n",
      "\n",
      "\n",
      "\n",
      ".rebotcO 13 no UE eht evael ot eud si KU eht erofeb noitcele lareneg a dloh ot snalp tnemnrevog yna tsniaga etov dluow ruobaL dias retal dyolL ynoT yraterces dnalerI nrehtroN wodahs tuB\n",
      "\n",
      "\n",
      "\n",
      ".noitcele lareneg a rof ydaer saw ytraP ruobaL eht dias nybroC ymereJ\n",
      "\n",
      "\n",
      "\n",
      ".niw sPM eht fi \"elbissopmi\" eb dluow UE eht htiw ssergorp tub ,noitcele na tnaw ton did eh dias nosnhoJ rM\n",
      "\n",
      "\n",
      "\n",
      ".laed a tuohtiw rebotcO 13 no UE eht gnivael KU eht pots ot llib a gninnalp era sPM ruobaL dna seiroT lebeR\n",
      "\n",
      ".delaever sah eht retsinim emirp remrof rieht\n",
      "\n",
      ",rehtegot KU eht gnignirb fo gnitaerc htiw \"dessesbo\" emaceb rialB ynoT\n"
     ]
    }
   ],
   "source": [
    "file2 = open(\"test2.txt\")\n",
    "file_read = file2.readlines()\n",
    "for line in reversed(file_read):\n",
    "    a =line[::-1]\n",
    "    print(a)\n",
    "    file2.close()\n",
    "    "
   ]
  },
  {
   "cell_type": "code",
   "execution_count": 5,
   "metadata": {},
   "outputs": [
    {
     "name": "stdout",
     "output_type": "stream",
     "text": [
      "\n",
      ".\"laed on htiw tuo yrtnuoc siht sehsarc taht noitcele na fo smret eht etatcid nosnhoJ siroB evah ton lliw\" ruobaL dias eH\n",
      "\n",
      "\n",
      "\n",
      ".rebotcO 13 no UE eht evael ot eud si KU eht erofeb noitcele lareneg a dloh ot snalp tnemnrevog yna tsniaga etov dluow ruobaL dias retal dyolL ynoT yraterces dnalerI nrehtroN wodahs tuB\n",
      "\n",
      "\n",
      "\n",
      ".noitcele lareneg a rof ydaer saw ytraP ruobaL eht dias nybroC ymereJ\n",
      "\n",
      "\n",
      "\n",
      ".niw sPM eht fi \"elbissopmi\" eb dluow UE eht htiw ssergorp tub ,noitcele na tnaw ton did eh dias nosnhoJ rM\n",
      "\n",
      "\n",
      "\n",
      ".laed a tuohtiw rebotcO 13 no UE eht gnivael KU eht pots ot llib a gninnalp era sPM ruobaL dna seiroT lebeR\n",
      "\n",
      ".delaever sah eht retsinim emirp remrof rieht\n",
      "\n",
      ",rehtegot KU eht gnignirb fo gnitaerc htiw \"dessesbo\" emaceb rialB ynoT\n"
     ]
    }
   ],
   "source": [
    "# read the complete file and reverse its words and store it in a new file \"reverse.txt\"\n",
    "file = open(\"test2.txt\")\n",
    "lines = file.readlines()\n",
    "file2 = open('test7.txt','w+')\n",
    "for d in reversed(lines):\n",
    "        a = d[::-1]\n",
    "        file2.write(a)\n",
    "        print(a)\n",
    "        \n",
    "        "
   ]
  },
  {
   "cell_type": "code",
   "execution_count": 119,
   "metadata": {},
   "outputs": [
    {
     "name": "stdout",
     "output_type": "stream",
     "text": [
      "\n",
      "\n",
      ".\"laed on htiw tuo yrtnuoc siht sehsarc taht noitcele na fo smret eht etatcid nosnhoJ siroB evah ton lliw\" ruobaL dias eH\n"
     ]
    }
   ],
   "source": [
    "file = open(\"test6.txt\")\n",
    "lines = file.readlines()\n",
    "for d in lines:\n",
    "        a = d[::1]\n",
    "        print(a)"
   ]
  },
  {
   "cell_type": "code",
   "execution_count": 13,
   "metadata": {},
   "outputs": [],
   "source": [
    "import shutil # it is used for copy files from 1 file to another\n"
   ]
  },
  {
   "cell_type": "markdown",
   "metadata": {},
   "source": [
    "# 3. Using try, except, and open"
   ]
  },
  {
   "cell_type": "code",
   "execution_count": null,
   "metadata": {},
   "outputs": [],
   "source": [
    "fname = input('Enter the file name: ')\n",
    "#fname = 'test.txt'\n",
    "try:\n",
    "    fhand = open(fname)\n",
    "except:\n",
    "    print ('File cannot be opened:', fname)\n",
    "    exit()\n",
    "count = 0\n",
    "for line in fhand:\n",
    "    #if line.startswith('Subject:') :\n",
    "    count = count + 1\n",
    "print ('There were', count, ' lines in', fname)"
   ]
  },
  {
   "cell_type": "code",
   "execution_count": null,
   "metadata": {},
   "outputs": [],
   "source": []
  },
  {
   "cell_type": "markdown",
   "metadata": {},
   "source": [
    "# 4. Writing files"
   ]
  },
  {
   "cell_type": "code",
   "execution_count": 19,
   "metadata": {},
   "outputs": [],
   "source": [
    "fout = open('output.txt', 'w')"
   ]
  },
  {
   "cell_type": "code",
   "execution_count": 20,
   "metadata": {},
   "outputs": [],
   "source": [
    "line1 = \"This here's the wattle,\\n\"\n",
    "fout.write(line1)\n",
    "fout.close()"
   ]
  },
  {
   "cell_type": "code",
   "execution_count": 21,
   "metadata": {},
   "outputs": [
    {
     "name": "stdout",
     "output_type": "stream",
     "text": [
      "This here's the wattle,\n",
      "\n"
     ]
    }
   ],
   "source": [
    "fileopen = open(\"output.txt\")\n",
    "line = fileopen.readlines()\n",
    "for i in line:\n",
    "    print(i)"
   ]
  },
  {
   "cell_type": "code",
   "execution_count": 22,
   "metadata": {},
   "outputs": [],
   "source": [
    "s = '1 2\\t 3\\n 4'"
   ]
  },
  {
   "cell_type": "code",
   "execution_count": null,
   "metadata": {},
   "outputs": [],
   "source": []
  },
  {
   "cell_type": "code",
   "execution_count": 23,
   "metadata": {},
   "outputs": [
    {
     "name": "stdout",
     "output_type": "stream",
     "text": [
      "1 2\t 3\n",
      " 4\n"
     ]
    }
   ],
   "source": [
    "print(s)"
   ]
  },
  {
   "cell_type": "code",
   "execution_count": 24,
   "metadata": {},
   "outputs": [
    {
     "name": "stdout",
     "output_type": "stream",
     "text": [
      "'1 2\\t 3\\n 4'\n"
     ]
    }
   ],
   "source": [
    "print (repr(s))"
   ]
  },
  {
   "cell_type": "code",
   "execution_count": 25,
   "metadata": {},
   "outputs": [],
   "source": [
    "#create a new file having name \"Numbers.txt\" and write counting 1-100 using for loop\n",
    "fout = open('output.txt', 'w')\n",
    "for i in range(1,100):\n",
    "    fout.write(str(i))\n",
    "    i+=1\n",
    "fout.close()\n"
   ]
  },
  {
   "cell_type": "code",
   "execution_count": 26,
   "metadata": {},
   "outputs": [],
   "source": [
    "op = open(\"output.txt\", \"w\")\n",
    "for i in range(10,30):\n",
    "    op.write(str(i))\n",
    "    i=i+1\n",
    "op.close()"
   ]
  },
  {
   "cell_type": "code",
   "execution_count": 28,
   "metadata": {},
   "outputs": [
    {
     "name": "stdout",
     "output_type": "stream",
     "text": [
      "1011121314151617181920212223242526272829\n"
     ]
    }
   ],
   "source": [
    "#for reading a txt that is located in the output file\n",
    "ope = open(\"output.txt\")\n",
    "line = ope.readlines()\n",
    "for i in line:\n",
    "    print(i)"
   ]
  },
  {
   "cell_type": "code",
   "execution_count": null,
   "metadata": {},
   "outputs": [],
   "source": [
    "#create a new file having name \"Info.txt\" and save your firends info in that file\n",
    "# You should ask for name, age, university, class, roll number using input command from your frind and store it in the file one by one"
   ]
  },
  {
   "cell_type": "code",
   "execution_count": 29,
   "metadata": {},
   "outputs": [
    {
     "name": "stdout",
     "output_type": "stream",
     "text": [
      "enter name seher\n",
      "enter age 24\n",
      "enter uni ncba\n",
      "enter roll num2183042\n",
      "seher\n",
      "24\n"
     ]
    }
   ],
   "source": [
    "file1 = open( \"Info.txt\",\"w+\")\n",
    "name = input('enter name ')\n",
    "file1.write(\"name is:\\n \" + name)\n",
    "age = input('enter age ')\n",
    "file1.write(\" \\nage is:\\n \"+age)\n",
    "uni = input('enter uni ')\n",
    "file1.write(\"\\nuni name is:\\n \"+uni)\n",
    "roll_num = input('enter roll num')\n",
    "file1.write(\"\\nroll num is:\\n\"+roll_num)\n",
    "file1.close()\n",
    "print(name)\n",
    "print(age)"
   ]
  },
  {
   "cell_type": "code",
   "execution_count": 30,
   "metadata": {},
   "outputs": [
    {
     "name": "stdout",
     "output_type": "stream",
     "text": [
      "8\n"
     ]
    }
   ],
   "source": [
    "## Find the line count of file info.txt\n",
    "file1 = open( \"Info.txt\")\n",
    "lines = file1.readlines()\n",
    "length = len(lines)\n",
    "print(length)\n"
   ]
  },
  {
   "cell_type": "code",
   "execution_count": null,
   "metadata": {},
   "outputs": [],
   "source": []
  }
 ],
 "metadata": {
  "kernelspec": {
   "display_name": "Python 3",
   "language": "python",
   "name": "python3"
  },
  "language_info": {
   "codemirror_mode": {
    "name": "ipython",
    "version": 3
   },
   "file_extension": ".py",
   "mimetype": "text/x-python",
   "name": "python",
   "nbconvert_exporter": "python",
   "pygments_lexer": "ipython3",
   "version": "3.7.4"
  }
 },
 "nbformat": 4,
 "nbformat_minor": 2
}
