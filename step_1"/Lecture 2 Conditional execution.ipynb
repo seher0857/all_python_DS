{
 "cells": [
  {
   "cell_type": "markdown",
   "metadata": {},
   "source": [
    "# Contents\n",
    "## 1. Boolean Expression\n",
    "## 2. Comparison Operators\n",
    "## 3. Logical Operators\n",
    "## 4. if Statement\n",
    "## 5. Catching exceptions using try and except\n",
    "## 6. Short circuit evaluation of logical expressions"
   ]
  },
  {
   "cell_type": "markdown",
   "metadata": {},
   "source": [
    "# 1. Boolean Expressions"
   ]
  },
  {
   "cell_type": "markdown",
   "metadata": {},
   "source": [
    "A boolean expression is an expression that is either true or false."
   ]
  },
  {
   "cell_type": "code",
   "execution_count": 1,
   "metadata": {},
   "outputs": [
    {
     "data": {
      "text/plain": [
       "True"
      ]
     },
     "execution_count": 1,
     "metadata": {},
     "output_type": "execute_result"
    }
   ],
   "source": [
    "5==5"
   ]
  },
  {
   "cell_type": "code",
   "execution_count": 2,
   "metadata": {},
   "outputs": [
    {
     "data": {
      "text/plain": [
       "False"
      ]
     },
     "execution_count": 2,
     "metadata": {},
     "output_type": "execute_result"
    }
   ],
   "source": [
    "5==8"
   ]
  },
  {
   "cell_type": "code",
   "execution_count": 3,
   "metadata": {},
   "outputs": [
    {
     "data": {
      "text/plain": [
       "bool"
      ]
     },
     "execution_count": 3,
     "metadata": {},
     "output_type": "execute_result"
    }
   ],
   "source": [
    "type(True)\n"
   ]
  },
  {
   "cell_type": "code",
   "execution_count": 4,
   "metadata": {},
   "outputs": [
    {
     "data": {
      "text/plain": [
       "bool"
      ]
     },
     "execution_count": 4,
     "metadata": {},
     "output_type": "execute_result"
    }
   ],
   "source": [
    "# what is type of False\n",
    "type(False)"
   ]
  },
  {
   "cell_type": "markdown",
   "metadata": {},
   "source": [
    "# 2. Comparison Operators"
   ]
  },
  {
   "cell_type": "raw",
   "metadata": {},
   "source": [
    "x == y # x is equal to y\n",
    "\n",
    "x != y # x is not equal to y\n",
    "\n",
    "x > y # x is greater than y\n",
    "\n",
    "x < y # x is less than y\n",
    "\n",
    "x >= y # x is greater than or equal to y\n",
    "\n",
    "x <= y # x is less than or equal to y\n",
    "\n",
    "x is y # x is the same as y\n",
    "\n",
    "x is not y # x is not the same as y"
   ]
  },
  {
   "cell_type": "code",
   "execution_count": 2,
   "metadata": {},
   "outputs": [],
   "source": [
    "# if x = 10 and y = 10, which of the above statements will return True"
   ]
  },
  {
   "cell_type": "code",
   "execution_count": 6,
   "metadata": {},
   "outputs": [],
   "source": [
    "# if x = 10 and y = 30, which of the above statements will return False"
   ]
  },
  {
   "cell_type": "code",
   "execution_count": 13,
   "metadata": {},
   "outputs": [
    {
     "data": {
      "text/plain": [
       "False"
      ]
     },
     "execution_count": 13,
     "metadata": {},
     "output_type": "execute_result"
    }
   ],
   "source": [
    "# write the comparsion operators which are common in above two\n",
    "x,y=10,10   \n",
    "b = x==y\n",
    "a = x is y\n",
    "# print(a,b)\n",
    "first = [1]\n",
    "second = first\n",
    "third =[1]\n",
    "second is third"
   ]
  },
  {
   "cell_type": "markdown",
   "metadata": {},
   "source": [
    "# 3. Logical operators"
   ]
  },
  {
   "cell_type": "markdown",
   "metadata": {},
   "source": [
    "There are three logical operators: and, or, and not"
   ]
  },
  {
   "cell_type": "code",
   "execution_count": 4,
   "metadata": {},
   "outputs": [
    {
     "name": "stdout",
     "output_type": "stream",
     "text": [
      "True\n"
     ]
    }
   ],
   "source": [
    "x = 6\n",
    "print (x > 0 and x < 10)"
   ]
  },
  {
   "cell_type": "code",
   "execution_count": 5,
   "metadata": {},
   "outputs": [
    {
     "name": "stdout",
     "output_type": "stream",
     "text": [
      "False\n"
     ]
    }
   ],
   "source": [
    "print (not (x%2 == 0))"
   ]
  },
  {
   "cell_type": "code",
   "execution_count": 6,
   "metadata": {},
   "outputs": [
    {
     "data": {
      "text/plain": [
       "True"
      ]
     },
     "execution_count": 6,
     "metadata": {},
     "output_type": "execute_result"
    }
   ],
   "source": [
    "17 and True"
   ]
  },
  {
   "cell_type": "code",
   "execution_count": 7,
   "metadata": {},
   "outputs": [
    {
     "data": {
      "text/plain": [
       "True"
      ]
     },
     "execution_count": 7,
     "metadata": {},
     "output_type": "execute_result"
    }
   ],
   "source": [
    "# what will be the output of 0 or True\n",
    "0 or True "
   ]
  },
  {
   "cell_type": "code",
   "execution_count": 8,
   "metadata": {},
   "outputs": [
    {
     "data": {
      "text/plain": [
       "False"
      ]
     },
     "execution_count": 8,
     "metadata": {},
     "output_type": "execute_result"
    }
   ],
   "source": [
    "# what will be the output of 1 and False\n",
    "1 and False"
   ]
  },
  {
   "cell_type": "markdown",
   "metadata": {},
   "source": [
    "# 4. if Statement"
   ]
  },
  {
   "cell_type": "code",
   "execution_count": 12,
   "metadata": {},
   "outputs": [
    {
     "name": "stdout",
     "output_type": "stream",
     "text": [
      "x is positive\n",
      "value of x is =  5\n"
     ]
    }
   ],
   "source": [
    "x = 5\n",
    "if x > 0 :\n",
    "    print (\"x is positive\")\n",
    "    print (\"value of x is = \", x)"
   ]
  },
  {
   "cell_type": "code",
   "execution_count": 14,
   "metadata": {},
   "outputs": [
    {
     "name": "stdout",
     "output_type": "stream",
     "text": [
      "x is positive\n",
      "value of x is: 5\n"
     ]
    }
   ],
   "source": [
    "x = 5\n",
    "if x >= 5:\n",
    "    print(\"x is positive\")\n",
    "    print(\"value of x is:\",x)"
   ]
  },
  {
   "cell_type": "code",
   "execution_count": 15,
   "metadata": {},
   "outputs": [],
   "source": [
    "# you can use the pass statement, which does nothing\n",
    "x = 6\n",
    "if x < 0 :\n",
    "    pass"
   ]
  },
  {
   "cell_type": "markdown",
   "metadata": {},
   "source": [
    "### Alternative execution"
   ]
  },
  {
   "cell_type": "code",
   "execution_count": 16,
   "metadata": {},
   "outputs": [
    {
     "name": "stdout",
     "output_type": "stream",
     "text": [
      "x is odd\n"
     ]
    }
   ],
   "source": [
    "x = 5\n",
    "if x%2 == 0 :\n",
    "    print ('x is even')\n",
    "else :\n",
    "    print ('x is odd')"
   ]
  },
  {
   "cell_type": "markdown",
   "metadata": {},
   "source": [
    "### Chained conditionals"
   ]
  },
  {
   "cell_type": "code",
   "execution_count": 16,
   "metadata": {},
   "outputs": [
    {
     "name": "stdout",
     "output_type": "stream",
     "text": [
      "x is greater than y\n"
     ]
    }
   ],
   "source": [
    "x = 12\n",
    "y = 2\n",
    "if x < y:\n",
    "    print ('x is less than y')\n",
    "elif x > y:\n",
    "    print ('x is greater than y')\n",
    "else:\n",
    "    print ('x and y are equal')"
   ]
  },
  {
   "cell_type": "code",
   "execution_count": null,
   "metadata": {},
   "outputs": [],
   "source": [
    "choice = 'b'\n",
    "if choice == 'a':\n",
    "    print ('Bad guess')\n",
    "elif choice == 'b':\n",
    "    print ('Good guess')\n",
    "elif choice == 'c':\n",
    "    print ('Close, but not correct')"
   ]
  },
  {
   "cell_type": "code",
   "execution_count": 4,
   "metadata": {},
   "outputs": [
    {
     "name": "stdout",
     "output_type": "stream",
     "text": [
      "enter values between 0.0.to 1.00\n",
      "failure\n"
     ]
    }
   ],
   "source": [
    "# Write a program to prompt for a score between 0.0 and 1.0. If the score is out of range \n",
    "# print an error. If the score is between 0.0 and 1.0, print a grade using the following \n",
    "# table:\n",
    "# Score Grade\n",
    "# >= 0.9 A\n",
    "# >= 0.8 B\n",
    "# >= 0.7 C\n",
    "# >= 0.6 D\n",
    "# < 0.6 F\n",
    "start =int(input(\"enter values between 0.0.to 1.0\"))\n",
    "score = float(start)\n",
    "if score >=0.9:\n",
    "    print(\"grade A\")\n",
    "elif score >= 0.8:\n",
    "    print(\"grade B\")\n",
    "elif score >= 0.7:\n",
    "    print(\"grade c\")\n",
    "elif score <= 0.6:\n",
    "    print(\"failure\")\n",
    "else:\n",
    "    print(\"ther is an error\")"
   ]
  },
  {
   "cell_type": "markdown",
   "metadata": {},
   "source": [
    "### Nested conditions"
   ]
  },
  {
   "cell_type": "code",
   "execution_count": 24,
   "metadata": {},
   "outputs": [
    {
     "name": "stdout",
     "output_type": "stream",
     "text": [
      "x is less than y\n"
     ]
    }
   ],
   "source": [
    "x = 5\n",
    "y = 23\n",
    "if x == y:\n",
    "    print ('x and y are equal')\n",
    "else:\n",
    "    if x < y:\n",
    "        print ('x is less than y')\n",
    "    else:\n",
    "        print ('x is greater than y')"
   ]
  },
  {
   "cell_type": "markdown",
   "metadata": {},
   "source": [
    "# 5. Catching exceptions using try and except"
   ]
  },
  {
   "cell_type": "markdown",
   "metadata": {},
   "source": [
    "The idea of try and except is that you know that some sequence of instruction(s) may have a problem and\n",
    "you want to add some statements to be executed if an error occurs. \n",
    "\n",
    "These extra statements (the except block) are ignored if there is no error.\n",
    "\n",
    "You can think of the try and except feature in Python as an “insurance policy”\n",
    "on a sequence of statements."
   ]
  },
  {
   "cell_type": "code",
   "execution_count": 1,
   "metadata": {},
   "outputs": [
    {
     "name": "stdout",
     "output_type": "stream",
     "text": [
      "Enter Fahrenheit Temperature:99\n",
      "37.22222222222222\n"
     ]
    }
   ],
   "source": [
    "inp = input('Enter Fahrenheit Temperature:')\n",
    "fahr = float(inp)\n",
    "cel = (fahr - 32.0) * 5.0 / 9.0\n",
    "print (cel)"
   ]
  },
  {
   "cell_type": "code",
   "execution_count": 5,
   "metadata": {},
   "outputs": [
    {
     "name": "stdout",
     "output_type": "stream",
     "text": [
      "Enter Fahrenheit Temperature:12\n",
      "-11.11111111111111\n"
     ]
    }
   ],
   "source": [
    "inp = input('Enter Fahrenheit Temperature:')\n",
    "try:\n",
    "    fahr = float(inp)\n",
    "    cel = (fahr - 32.0) * 5.0 / 9.0\n",
    "    print (cel)\n",
    "except:\n",
    "    print ('Please enter a number')"
   ]
  },
  {
   "cell_type": "raw",
   "metadata": {},
   "source": [
    "Handling an exception with a try statement is called catching an exception. \n",
    "In this example, the except clause prints an error message. \n",
    "In general, catching an exception gives you a chance to fix the problem, or try again, or at least end the program gracefully."
   ]
  },
  {
   "cell_type": "raw",
   "metadata": {},
   "source": [
    "Rewrite your pay program using try and except so that your program handles non-numeric input gracefully by printing a message and exiting the program. The following shows two executions of the program:\n",
    "    \n",
    "#Enter Hours: 20Enter Rate: nine\n",
    "#Error, please enter numeric input\n",
    "#Enter Hours: forty\n",
    "#Error, please enter numeric input\n",
    "\n",
    "inp = input('Enter hours:')\n",
    "inc = input('Enter Rate:')\n",
    "try:\n",
    "   \n",
    "    print (inp,inc)\n",
    "except:\n",
    "    print ('Please enter numeric number')"
   ]
  },
  {
   "cell_type": "code",
   "execution_count": 6,
   "metadata": {},
   "outputs": [
    {
     "name": "stdout",
     "output_type": "stream",
     "text": [
      "Enter hours:12\n",
      "Enter Rate:34\n",
      "Please enter numeric number\n"
     ]
    }
   ],
   "source": [
    "inp = input('Enter hours:')\n",
    "inc = input('Enter Rate:')\n",
    "try:\n",
    "   \n",
    "    print (inp+inc/10)\n",
    "except:\n",
    "    print ('Please enter numeric number')"
   ]
  },
  {
   "cell_type": "markdown",
   "metadata": {},
   "source": [
    "# 6. Short circuit evaluation of logical expressions"
   ]
  },
  {
   "cell_type": "raw",
   "metadata": {},
   "source": [
    "When Python is processing a logical expression such as x >= 2 and (x/y) > 2, it evaluates the expression from left-to-right. \n",
    "\n",
    "Because of the definition of and, if x is less than 2, the expression x >= 2 is False and so the whole expression is False regardless of whether (x/y) > 2 evaluates to True or False."
   ]
  },
  {
   "cell_type": "raw",
   "metadata": {},
   "source": [
    "When Python detects that there is nothing to be gained by evaluating the rest of a logical expression, it stops its evaluation and does not do the computations in the rest of the logical expression. \n",
    "\n",
    "When the evaluation of a logical expression stops because the overall value is already known, it is called short-circuiting the evaluation."
   ]
  },
  {
   "cell_type": "code",
   "execution_count": 20,
   "metadata": {},
   "outputs": [
    {
     "data": {
      "text/plain": [
       "True"
      ]
     },
     "execution_count": 20,
     "metadata": {},
     "output_type": "execute_result"
    }
   ],
   "source": [
    "x = 6\n",
    "y = 2\n",
    "x >= 2 and (x/y) > 2"
   ]
  },
  {
   "cell_type": "code",
   "execution_count": 7,
   "metadata": {},
   "outputs": [
    {
     "data": {
      "text/plain": [
       "False"
      ]
     },
     "execution_count": 7,
     "metadata": {},
     "output_type": "execute_result"
    }
   ],
   "source": [
    "x = 1\n",
    "y = 0\n",
    "x >= 2 and (x/y) > 2"
   ]
  },
  {
   "cell_type": "raw",
   "metadata": {},
   "source": [
    "The third calculation failed because Python was evaluating (x/y) and y was zero which causes a runtime error. \n",
    "\n",
    "But the second example did not fail because the first part of the expression x >= 2 evaluated to False so the (x/y) was not ever executed due to the short circuit rule and there was no error."
   ]
  },
  {
   "cell_type": "raw",
   "metadata": {},
   "source": [
    "We can construct the logical expression to strategically place a guard evaluation just before the evaluation that might cause an error as follows:"
   ]
  },
  {
   "cell_type": "code",
   "execution_count": 8,
   "metadata": {},
   "outputs": [
    {
     "data": {
      "text/plain": [
       "False"
      ]
     },
     "execution_count": 8,
     "metadata": {},
     "output_type": "execute_result"
    }
   ],
   "source": [
    "x = 1\n",
    "y = 0\n",
    "x >= 2 and y != 0 and (x/y) > 2"
   ]
  },
  {
   "cell_type": "code",
   "execution_count": 9,
   "metadata": {},
   "outputs": [
    {
     "data": {
      "text/plain": [
       "False"
      ]
     },
     "execution_count": 9,
     "metadata": {},
     "output_type": "execute_result"
    }
   ],
   "source": [
    "x = 6\n",
    "y = 0\n",
    "x >= 2 and y != 0 and (x/y) > 2"
   ]
  },
  {
   "cell_type": "code",
   "execution_count": 10,
   "metadata": {},
   "outputs": [
    {
     "data": {
      "text/plain": [
       "True"
      ]
     },
     "execution_count": 10,
     "metadata": {},
     "output_type": "execute_result"
    }
   ],
   "source": [
    "# what will happen if you execute x >= 2 and (x/y) > 2 and y != 0\n",
    "x=6\n",
    "y=2\n",
    "\n",
    "x >= 2 and (x/y) > 2 and y != 0\n",
    "    "
   ]
  },
  {
   "cell_type": "raw",
   "metadata": {},
   "source": [
    "In the second expression, we say that y != 0 acts as a guard to insure that we only execute (x/y) if y is non-zero."
   ]
  }
 ],
 "metadata": {
  "kernelspec": {
   "display_name": "Python 3",
   "language": "python",
   "name": "python3"
  }
 },
 "nbformat": 4,
 "nbformat_minor": 4
}
